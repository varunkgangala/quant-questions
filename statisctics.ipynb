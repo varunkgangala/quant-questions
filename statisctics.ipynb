{
 "cells": [
  {
   "cell_type": "markdown",
   "id": "9a508214",
   "metadata": {},
   "source": [
    "INCONSISTENT BAKERS"
   ]
  },
  {
   "cell_type": "code",
   "execution_count": 3,
   "id": "562665d8",
   "metadata": {},
   "outputs": [
    {
     "name": "stdout",
     "output_type": "stream",
     "text": [
      "Standard deviation of the average output: 2.0\n"
     ]
    }
   ],
   "source": [
    "\"\"\"A donut shop has 25 different bakers, each of whom bake donuts. Each baker's output is\n",
    "independent from the others. It so happens that the standard deviation in donut output\n",
    "for each baker is 10. What is the standard deviation in the average number of donuts \n",
    "made by a baker?\"\"\"\n",
    "import math\n",
    "n=25       \n",
    "sd=10      \n",
    "sd_avg=sd/math.sqrt(n)\n",
    "print(\"Standard deviation of the average output:\",sd_avg)\n"
   ]
  },
  {
   "cell_type": "markdown",
   "id": "2e1e620d",
   "metadata": {},
   "source": [
    "NUMBER OF RUNS"
   ]
  },
  {
   "cell_type": "code",
   "execution_count": null,
   "id": "cb19292b",
   "metadata": {},
   "outputs": [
    {
     "name": "stdout",
     "output_type": "stream",
     "text": [
      "27.00744\n"
     ]
    }
   ],
   "source": [
    "\"\"\"Imagine you are given a standard deck of 52 cards \n",
    "(half of the cards are red and the other half are black). \n",
    "A run is defined as a block of cards that are drawn consecutively and all have the same color.\n",
    "As an example, BBRRBBB has 3 runs. Find the expected number of runs in a shuffled deck of cards.\n",
    "\"\"\"\n",
    "import random\n",
    "def count_runs(deck):\n",
    "    runs = 1\n",
    "    for i in range(1, len(deck)):\n",
    "        if deck[i] != deck[i-1]:\n",
    "            runs += 1\n",
    "    return runs\n",
    "def expected_runs(trials=100000):\n",
    "    total = 0\n",
    "    deck = ['R'] * 26 + ['B'] * 26\n",
    "    for _ in range(trials):\n",
    "        random.shuffle(deck)\n",
    "        total += count_runs(deck)\n",
    "    return total / trials\n",
    "print(expected_runs())\n"
   ]
  },
  {
   "cell_type": "code",
   "execution_count": null,
   "id": "5ca7f3c5",
   "metadata": {},
   "outputs": [],
   "source": []
  }
 ],
 "metadata": {
  "kernelspec": {
   "display_name": "Python 3",
   "language": "python",
   "name": "python3"
  },
  "language_info": {
   "codemirror_mode": {
    "name": "ipython",
    "version": 3
   },
   "file_extension": ".py",
   "mimetype": "text/x-python",
   "name": "python",
   "nbconvert_exporter": "python",
   "pygments_lexer": "ipython3",
   "version": "3.11.13"
  }
 },
 "nbformat": 4,
 "nbformat_minor": 5
}

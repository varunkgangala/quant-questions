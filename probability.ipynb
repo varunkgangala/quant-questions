{
 "cells": [
  {
   "cell_type": "markdown",
   "id": "20bb5c8c",
   "metadata": {},
   "source": [
    "EVEN BEFORE ODD\n"
   ]
  },
  {
   "cell_type": "code",
   "execution_count": null,
   "id": "315ea1e8",
   "metadata": {},
   "outputs": [
    {
     "name": "stdout",
     "output_type": "stream",
     "text": [
      "Probability: 0.05\n"
     ]
    }
   ],
   "source": [
    "\"\"\"Suppose you roll a fair 6-sided die until you've seen all 6 faces. \n",
    "What is the probability you won't see an odd numbered face \n",
    "until you have seen all even numbered faces?\"\"\"\n",
    "from itertools import permutations as p\n",
    "def ok(s):\n",
    "    a = set()\n",
    "    for x in s:\n",
    "        a.add(x)\n",
    "        if x in {1,3,5} and not {2,4,6}.issubset(a):\n",
    "            return False\n",
    "    return True\n",
    "c = 0\n",
    "for s in p([1,2,3,4,5,6]):\n",
    "    if ok(s):\n",
    "        c += 1\n",
    "print(\"Probability:\", c / 720)\n"
   ]
  },
  {
   "cell_type": "markdown",
   "id": "25374bce",
   "metadata": {},
   "source": [
    "HIGHEST ROLL EV"
   ]
  },
  {
   "cell_type": "code",
   "execution_count": 12,
   "id": "febb6e5e",
   "metadata": {},
   "outputs": [
    {
     "name": "stdout",
     "output_type": "stream",
     "text": [
      "Expected value: 6.0\n"
     ]
    }
   ],
   "source": [
    "\"\"\"Jim will roll a fair, six-sided die until he gets a 4\n",
    "What is the expected value of the highest number he rolls through this process?\"\"\"\n",
    "from itertools import permutations as p\n",
    "c = 0\n",
    "for s in p([1,2,3,4,5,6]):\n",
    "    if 4 in s:\n",
    "        c += max(s)\n",
    "print(\"Expected value:\", c / 720)"
   ]
  },
  {
   "cell_type": "code",
   "execution_count": null,
   "id": "46136f48",
   "metadata": {},
   "outputs": [],
   "source": []
  }
 ],
 "metadata": {
  "kernelspec": {
   "display_name": "Python 3",
   "language": "python",
   "name": "python3"
  },
  "language_info": {
   "codemirror_mode": {
    "name": "ipython",
    "version": 3
   },
   "file_extension": ".py",
   "mimetype": "text/x-python",
   "name": "python",
   "nbconvert_exporter": "python",
   "pygments_lexer": "ipython3",
   "version": "3.11.13"
  }
 },
 "nbformat": 4,
 "nbformat_minor": 5
}

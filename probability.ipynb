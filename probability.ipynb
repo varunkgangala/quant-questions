{
 "cells": [
  {
   "cell_type": "markdown",
   "id": "20bb5c8c",
   "metadata": {},
   "source": [
    "EVEN BEFORE ODD\n"
   ]
  },
  {
   "cell_type": "code",
   "execution_count": null,
   "id": "315ea1e8",
   "metadata": {},
   "outputs": [
    {
     "name": "stdout",
     "output_type": "stream",
     "text": [
      "Probability: 0.05\n"
     ]
    }
   ],
   "source": [
    "\"\"\"Suppose you roll a fair 6-sided die until you've seen all 6 faces. \n",
    "What is the probability you won't see an odd numbered face \n",
    "until you have seen all even numbered faces?\"\"\"\n",
    "from itertools import permutations as p\n",
    "def ok(s):\n",
    "    a = set()\n",
    "    for x in s:\n",
    "        a.add(x)\n",
    "        if x in {1,3,5} and not {2,4,6}.issubset(a):\n",
    "            return False\n",
    "    return True\n",
    "c = 0\n",
    "for s in p([1,2,3,4,5,6]):\n",
    "    if ok(s):\n",
    "        c += 1\n",
    "print(\"Probability:\", c / 720)\n"
   ]
  },
  {
   "cell_type": "markdown",
   "id": "25374bce",
   "metadata": {},
   "source": [
    "HIGHEST ROLL EV"
   ]
  },
  {
   "cell_type": "code",
   "execution_count": 12,
   "id": "febb6e5e",
   "metadata": {},
   "outputs": [
    {
     "name": "stdout",
     "output_type": "stream",
     "text": [
      "Expected value: 6.0\n"
     ]
    }
   ],
   "source": [
    "\"\"\"Jim will roll a fair, six-sided die until he gets a 4\n",
    "What is the expected value of the highest number he rolls through this process?\"\"\"\n",
    "from itertools import permutations as p\n",
    "c = 0\n",
    "for s in p([1,2,3,4,5,6]):\n",
    "    if 4 in s:\n",
    "        c += max(s)\n",
    "print(\"Expected value:\", c / 720)"
   ]
  },
  {
   "cell_type": "markdown",
   "id": "41ac6017",
   "metadata": {},
   "source": [
    "TEN FLOOR BUILDING"
   ]
  },
  {
   "cell_type": "code",
   "execution_count": 2,
   "id": "46136f48",
   "metadata": {},
   "outputs": [
    {
     "name": "stdout",
     "output_type": "stream",
     "text": [
      "7.1879\n"
     ]
    }
   ],
   "source": [
    "\"\"\"A building has 10 floors above the basement. If 12 people get into an elevator at the basement,\n",
    "and each chooses a floor at random to get out, independently of the others, at how many floors do\n",
    "you expect the elevator to make a stop to let out one or more of these 12 people?\"\"\"\n",
    "import random\n",
    "def simulate_trial() -> int:\n",
    "    floors = [random.randint(1, 10) for _ in range(12)]\n",
    "    return len(set(floors))\n",
    "res = [simulate_trial() for _ in range(10_000)]\n",
    "print(sum(res) / len(res))"
   ]
  },
  {
   "cell_type": "markdown",
   "id": "1000b36d",
   "metadata": {},
   "source": [
    "MULTIPLES OF 6"
   ]
  },
  {
   "cell_type": "code",
   "execution_count": 7,
   "id": "e42e9273",
   "metadata": {},
   "outputs": [
    {
     "name": "stdout",
     "output_type": "stream",
     "text": [
      "5.9319\n"
     ]
    }
   ],
   "source": [
    "\"\"\"You roll a fair six-sided and sum the outcomes until you reach a multiple of 6.\n",
    "What is the expected number of times you expect to roll the die.\"\"\"\n",
    "import random\n",
    "from typing import Callable\n",
    "roll_dice: Callable [[None], int] = lambda: random.randrange(1,7)\n",
    "total_rolls = 0\n",
    "num_iters = 10_000\n",
    "for i in range(num_iters):\n",
    "   run_sum = roll_dice()\n",
    "   rolls = 1\n",
    "   while run_sum % 6 != 0:\n",
    "      run_sum += roll_dice()\n",
    "      rolls += 1\n",
    "   total_rolls += rolls\n",
    "print(total_rolls/num_iters)"
   ]
  },
  {
   "cell_type": "code",
   "execution_count": null,
   "id": "87933f3c",
   "metadata": {},
   "outputs": [],
   "source": []
  }
 ],
 "metadata": {
  "kernelspec": {
   "display_name": "Python 3",
   "language": "python",
   "name": "python3"
  },
  "language_info": {
   "codemirror_mode": {
    "name": "ipython",
    "version": 3
   },
   "file_extension": ".py",
   "mimetype": "text/x-python",
   "name": "python",
   "nbconvert_exporter": "python",
   "pygments_lexer": "ipython3",
   "version": "3.11.13"
  }
 },
 "nbformat": 4,
 "nbformat_minor": 5
}
